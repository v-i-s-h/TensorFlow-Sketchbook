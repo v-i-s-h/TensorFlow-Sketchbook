{
 "cells": [
  {
   "cell_type": "markdown",
   "metadata": {},
   "source": [
    "Custom load"
   ]
  },
  {
   "cell_type": "code",
   "execution_count": 1,
   "metadata": {},
   "outputs": [],
   "source": [
    "import tensorflow as tf\n",
    "import os, json, h5py\n",
    "import numpy as np"
   ]
  },
  {
   "cell_type": "code",
   "execution_count": 2,
   "metadata": {},
   "outputs": [],
   "source": [
    "def build_model(input_shape, num_classes):\n",
    "    \n",
    "    in_layer = tf.keras.layers.Input(input_shape, name=\"in_layer\")\n",
    "    \n",
    "    x = in_layer\n",
    "    x = tf.keras.layers.Conv2D(16, (3, 3), padding=\"valid\", name=\"l1_conv2d\")(x)\n",
    "    x = tf.keras.layers.Conv2D(32, (3, 3), padding=\"valid\", name=\"l2_conv2d\")(x)\n",
    "    x = tf.keras.layers.Flatten(name=\"l3_flatten\")(x)\n",
    "    \n",
    "    out_layer = tf.keras.layers.Dense(num_classes, activation=\"softmax\", name=\"out_layer\")(x)\n",
    "    \n",
    "    return tf.keras.models.Model(inputs=in_layer, outputs=out_layer)"
   ]
  },
  {
   "cell_type": "code",
   "execution_count": 21,
   "metadata": {},
   "outputs": [],
   "source": [
    "# def load_weights(model, weights):\n",
    "#     with h5py.File(\"./model1.h5\", \"r\") as weights:\n",
    "#         for l in model.layers:\n",
    "#             for w in l.trainable_weights:\n",
    "#                 tf.keras.backend.set_value(w, weights[\"{}/{}\".format(l.name, w.name)])\n",
    "\n",
    "def load_weights(model, weights_file):\n",
    "    \"\"\"\n",
    "        Load weights from saved file based on layer name.\n",
    "        This is temporay solution for the problem discussed in\n",
    "        https://spectrum.chat/larq/general/testing-binary-models-with-latent-weights~d9987409-132c-4232-8370-0f706fdd50bd\n",
    "    \"\"\"\n",
    "\n",
    "    with h5py.File(weights_file, \"r\") as w:\n",
    "        for l in model.layers:\n",
    "            for _w in l.trainable_weights:\n",
    "                print(tf.keras.backend.get_value(_w).flatten()[:3])\n",
    "                tf.keras.backend.set_value(_w, \n",
    "                                           w[\"{}/{}\".format(l.name, _w.name)])\n",
    "                print(tf.keras.backend.get_value(_w).flatten()[:3])\n",
    "                print(\"=====================\")"
   ]
  },
  {
   "cell_type": "code",
   "execution_count": 4,
   "metadata": {},
   "outputs": [],
   "source": [
    "(x_train, y_train), (x_test, y_test) = tf.keras.datasets.mnist.load_data() \n",
    "\n",
    "x_train = x_train.reshape(*x_train.shape, -1)\n",
    "x_test = x_test.reshape(*x_test.shape, -1)\n",
    "\n",
    "input_shape = x_train.shape[1:]\n",
    "num_classes = 10\n",
    "\n",
    "x_train = x_train / 255.0\n",
    "y_train = np.eye(10)[y_train]\n",
    "\n",
    "x_test = x_test / 255.0\n",
    "y_test = np.eye(10)[y_test]"
   ]
  },
  {
   "cell_type": "code",
   "execution_count": 5,
   "metadata": {},
   "outputs": [
    {
     "name": "stdout",
     "output_type": "stream",
     "text": [
      "Train on 60000 samples\n",
      "Epoch 1/2\n",
      "60000/60000 [==============================] - 20s 341us/sample - loss: 0.3645 - accuracy: 0.8956\n",
      "Epoch 2/2\n",
      "60000/60000 [==============================] - 14s 236us/sample - loss: 0.3083 - accuracy: 0.9136\n",
      "Test Acc =  0.29298651625514033\n",
      "Test Loss =  0.9204\n"
     ]
    }
   ],
   "source": [
    "model1  = build_model(input_shape, num_classes)\n",
    "model1.compile(optimizer='rmsprop',\n",
    "              loss='categorical_crossentropy',\n",
    "              metrics=['accuracy'])\n",
    "# model1.summary()\n",
    "train_log = model1.fit(x_train, y_train, epochs=2)\n",
    "model1.save_weights(\"./model1.h5\")\n",
    "test_acc, test_loss = model1.evaluate(x_test, y_test, verbose=0)\n",
    "print(\"Test Acc = \", test_acc)\n",
    "print(\"Test Loss = \", test_loss)"
   ]
  },
  {
   "cell_type": "code",
   "execution_count": 6,
   "metadata": {},
   "outputs": [],
   "source": [
    "tf.keras.backend.clear_session()\n",
    "tf.compat.v1.reset_default_graph()"
   ]
  },
  {
   "cell_type": "code",
   "execution_count": 7,
   "metadata": {},
   "outputs": [
    {
     "name": "stdout",
     "output_type": "stream",
     "text": [
      "Test Acc =  0.29298651625514033\n",
      "Test Loss =  0.9204\n"
     ]
    }
   ],
   "source": [
    "model1 = build_model(input_shape, num_classes)\n",
    "model1.compile(optimizer='rmsprop',\n",
    "              loss='categorical_crossentropy',\n",
    "              metrics=['accuracy'])\n",
    "\n",
    "# model1.summary()\n",
    "model1.load_weights(\"model1.h5\")\n",
    "test_acc, test_loss = model1.evaluate(x_test, y_test, verbose=0)\n",
    "print(\"Test Acc = \", test_acc)\n",
    "print(\"Test Loss = \", test_loss)"
   ]
  },
  {
   "cell_type": "code",
   "execution_count": 22,
   "metadata": {},
   "outputs": [],
   "source": [
    "tf.keras.backend.clear_session()\n",
    "tf.compat.v1.reset_default_graph()"
   ]
  },
  {
   "cell_type": "code",
   "execution_count": 23,
   "metadata": {},
   "outputs": [
    {
     "name": "stdout",
     "output_type": "stream",
     "text": [
      "[-0.02724852 -0.1966636  -0.11848596]\n",
      "[ 0.08475371 -0.10462408 -0.14177212]\n",
      "=====================\n",
      "[0. 0. 0.]\n",
      "[-0.04077699 -0.00306944 -0.00033194]\n",
      "=====================\n",
      "[-0.08857512 -0.08443452  0.00768658]\n",
      "[ 0.07939932 -0.02648997 -0.04596211]\n",
      "=====================\n",
      "[0. 0. 0.]\n",
      "[-0.00559203 -0.00023849 -0.00438942]\n",
      "=====================\n",
      "[-0.01450286  0.01066554 -0.0019495 ]\n",
      "[ 0.03025247 -0.02587075  0.03936682]\n",
      "=====================\n",
      "[0. 0. 0.]\n",
      "[-0.07200084 -0.0292774   0.02811552]\n",
      "=====================\n",
      "Test Acc =  0.29298651625514033\n",
      "Test Loss =  0.9204\n"
     ]
    }
   ],
   "source": [
    "model1 = build_model(input_shape, num_classes)\n",
    "model1.compile(optimizer='rmsprop',\n",
    "              loss='categorical_crossentropy',\n",
    "              metrics=['accuracy'])\n",
    "\n",
    "# model1.summary()\n",
    "load_weights(model1, \"./model1.h5\")\n",
    "test_acc, test_loss = model1.evaluate(x_test, y_test, verbose=0)\n",
    "print(\"Test Acc = \", test_acc)\n",
    "print(\"Test Loss = \", test_loss)"
   ]
  },
  {
   "cell_type": "code",
   "execution_count": null,
   "metadata": {},
   "outputs": [],
   "source": []
  }
 ],
 "metadata": {
  "kernelspec": {
   "display_name": "Python 3",
   "language": "python",
   "name": "python3"
  },
  "language_info": {
   "codemirror_mode": {
    "name": "ipython",
    "version": 3
   },
   "file_extension": ".py",
   "mimetype": "text/x-python",
   "name": "python",
   "nbconvert_exporter": "python",
   "pygments_lexer": "ipython3",
   "version": "3.7.4"
  }
 },
 "nbformat": 4,
 "nbformat_minor": 4
}
