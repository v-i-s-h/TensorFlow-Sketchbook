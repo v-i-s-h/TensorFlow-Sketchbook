{
 "cells": [
  {
   "cell_type": "markdown",
   "metadata": {},
   "source": [
    "To explore a model saved by keras"
   ]
  },
  {
   "cell_type": "code",
   "execution_count": 1,
   "metadata": {},
   "outputs": [],
   "source": [
    "import os, json, h5py"
   ]
  },
  {
   "cell_type": "code",
   "execution_count": 6,
   "metadata": {},
   "outputs": [],
   "source": [
    "def explore(node, name):\n",
    "    if isinstance(node, h5py.Dataset):\n",
    "        print(name, \"::\", node.shape)\n",
    "    else:\n",
    "        for (k, v) in node.items():\n",
    "            explore(v, \"{}/{}\".format(name,k))"
   ]
  },
  {
   "cell_type": "code",
   "execution_count": 7,
   "metadata": {},
   "outputs": [
    {
     "name": "stdout",
     "output_type": "stream",
     "text": [
      "/l1_conv2d/l1_conv2d/bias:0 :: (16,)\n",
      "/l1_conv2d/l1_conv2d/kernel:0 :: (3, 3, 1, 16)\n",
      "/l2_conv2d/l2_conv2d/bias:0 :: (32,)\n",
      "/l2_conv2d/l2_conv2d/kernel:0 :: (3, 3, 16, 32)\n",
      "/out_layer/out_layer/bias:0 :: (10,)\n",
      "/out_layer/out_layer/kernel:0 :: (18432, 10)\n"
     ]
    }
   ],
   "source": [
    "# weights_file = \"./../../../rethinking-bnn/zoo/cifar10/binarynet/20191120163310/weights.h5\"\n",
    "weights_file = \"./model1.h5\"\n",
    "f = h5py.File(weights_file, \"r\")\n",
    "explore(f, \"\")"
   ]
  },
  {
   "cell_type": "code",
   "execution_count": 8,
   "metadata": {},
   "outputs": [
    {
     "name": "stdout",
     "output_type": "stream",
     "text": [
      "/batch_normalization/batch_normalization/beta:0 :: (128,)\n",
      "/batch_normalization/batch_normalization/moving_mean:0 :: (128,)\n",
      "/batch_normalization/batch_normalization/moving_variance:0 :: (128,)\n",
      "/batch_normalization_1/batch_normalization_1/beta:0 :: (128,)\n",
      "/batch_normalization_1/batch_normalization_1/moving_mean:0 :: (128,)\n",
      "/batch_normalization_1/batch_normalization_1/moving_variance:0 :: (128,)\n",
      "/batch_normalization_2/batch_normalization_2/beta:0 :: (256,)\n",
      "/batch_normalization_2/batch_normalization_2/moving_mean:0 :: (256,)\n",
      "/batch_normalization_2/batch_normalization_2/moving_variance:0 :: (256,)\n",
      "/batch_normalization_3/batch_normalization_3/beta:0 :: (256,)\n",
      "/batch_normalization_3/batch_normalization_3/moving_mean:0 :: (256,)\n",
      "/batch_normalization_3/batch_normalization_3/moving_variance:0 :: (256,)\n",
      "/batch_normalization_4/batch_normalization_4/beta:0 :: (512,)\n",
      "/batch_normalization_4/batch_normalization_4/moving_mean:0 :: (512,)\n",
      "/batch_normalization_4/batch_normalization_4/moving_variance:0 :: (512,)\n",
      "/batch_normalization_5/batch_normalization_5/beta:0 :: (512,)\n",
      "/batch_normalization_5/batch_normalization_5/moving_mean:0 :: (512,)\n",
      "/batch_normalization_5/batch_normalization_5/moving_variance:0 :: (512,)\n",
      "/batch_normalization_6/batch_normalization_6/beta:0 :: (1024,)\n",
      "/batch_normalization_6/batch_normalization_6/moving_mean:0 :: (1024,)\n",
      "/batch_normalization_6/batch_normalization_6/moving_variance:0 :: (1024,)\n",
      "/batch_normalization_7/batch_normalization_7/beta:0 :: (1024,)\n",
      "/batch_normalization_7/batch_normalization_7/moving_mean:0 :: (1024,)\n",
      "/batch_normalization_7/batch_normalization_7/moving_variance:0 :: (1024,)\n",
      "/batch_normalization_8/batch_normalization_8/beta:0 :: (10,)\n",
      "/batch_normalization_8/batch_normalization_8/moving_mean:0 :: (10,)\n",
      "/batch_normalization_8/batch_normalization_8/moving_variance:0 :: (10,)\n",
      "/quant_conv2d/quant_conv2d/kernel:0 :: (3, 3, 3, 128)\n",
      "/quant_conv2d_1/quant_conv2d_1/bias:0 :: (128,)\n",
      "/quant_conv2d_1/quant_conv2d_1/kernel:0 :: (3, 3, 128, 128)\n",
      "/quant_conv2d_2/quant_conv2d_2/bias:0 :: (256,)\n",
      "/quant_conv2d_2/quant_conv2d_2/kernel:0 :: (3, 3, 128, 256)\n",
      "/quant_conv2d_3/quant_conv2d_3/bias:0 :: (256,)\n",
      "/quant_conv2d_3/quant_conv2d_3/kernel:0 :: (3, 3, 256, 256)\n",
      "/quant_conv2d_4/quant_conv2d_4/bias:0 :: (512,)\n",
      "/quant_conv2d_4/quant_conv2d_4/kernel:0 :: (3, 3, 256, 512)\n",
      "/quant_conv2d_5/quant_conv2d_5/bias:0 :: (512,)\n",
      "/quant_conv2d_5/quant_conv2d_5/kernel:0 :: (3, 3, 512, 512)\n",
      "/quant_dense/quant_dense/bias:0 :: (1024,)\n",
      "/quant_dense/quant_dense/kernel:0 :: (4608, 1024)\n",
      "/quant_dense_1/quant_dense_1/bias:0 :: (1024,)\n",
      "/quant_dense_1/quant_dense_1/kernel:0 :: (1024, 1024)\n",
      "/quant_dense_2/quant_dense_2/bias:0 :: (10,)\n",
      "/quant_dense_2/quant_dense_2/kernel:0 :: (1024, 10)\n"
     ]
    }
   ],
   "source": [
    "weights_file = \"./../../../rethinking-bnn/zoo/test/cifar10/binarynet/20191122161024/weights.h5\"\n",
    "f = h5py.File(weights_file, \"r\")\n",
    "explore(f, \"\")"
   ]
  },
  {
   "cell_type": "code",
   "execution_count": 10,
   "metadata": {},
   "outputs": [
    {
     "data": {
      "text/plain": [
       "(1024, 10)"
      ]
     },
     "execution_count": 10,
     "metadata": {},
     "output_type": "execute_result"
    }
   ],
   "source": [
    "f[\"quant_dense_2/quant_dense_2/kernel:0\"].shape"
   ]
  },
  {
   "cell_type": "code",
   "execution_count": null,
   "metadata": {},
   "outputs": [],
   "source": []
  }
 ],
 "metadata": {
  "kernelspec": {
   "display_name": "Python 3",
   "language": "python",
   "name": "python3"
  },
  "language_info": {
   "codemirror_mode": {
    "name": "ipython",
    "version": 3
   },
   "file_extension": ".py",
   "mimetype": "text/x-python",
   "name": "python",
   "nbconvert_exporter": "python",
   "pygments_lexer": "ipython3",
   "version": "3.7.4"
  }
 },
 "nbformat": 4,
 "nbformat_minor": 4
}
