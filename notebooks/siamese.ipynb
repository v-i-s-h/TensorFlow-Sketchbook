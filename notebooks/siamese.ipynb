{
 "cells": [
  {
   "cell_type": "markdown",
   "metadata": {},
   "source": [
    "# Training Siamese Network for MNIST\n",
    "Example from: https://github.com/keras-team/keras/blob/master/examples/mnist_siamese.py"
   ]
  },
  {
   "cell_type": "code",
   "execution_count": 47,
   "metadata": {},
   "outputs": [],
   "source": [
    "import numpy as np\n",
    "import random\n",
    "\n",
    "import tensorflow as tf\n",
    "\n",
    "from tensorflow.keras.datasets import mnist\n",
    "from tensorflow.keras.models import Model\n",
    "from tensorflow.keras.layers import Input, Flatten, Dropout, Dense, Lambda\n",
    "from tensorflow.keras.optimizers import RMSprop\n",
    "from tensorflow.keras import backend as K"
   ]
  },
  {
   "cell_type": "code",
   "execution_count": 48,
   "metadata": {},
   "outputs": [],
   "source": [
    "nClasses = 10\n",
    "nEpochs  = 20"
   ]
  },
  {
   "cell_type": "code",
   "execution_count": 49,
   "metadata": {},
   "outputs": [],
   "source": [
    "def euclidean_distance( vects ):\n",
    "    x, y = vects\n",
    "    sum_square = K.sum( K.square(x-y), axis = 1, keepdims = True )\n",
    "    return K.sqrt( K.maximum(sum_square,K.epsilon()) )"
   ]
  },
  {
   "cell_type": "code",
   "execution_count": 50,
   "metadata": {},
   "outputs": [],
   "source": [
    "def eucl_dist_out_shape( shapes ):\n",
    "    shape1, shape2 = shapes\n",
    "    return (shape1[0],1)"
   ]
  },
  {
   "cell_type": "code",
   "execution_count": 51,
   "metadata": {},
   "outputs": [],
   "source": [
    "def contrastive_loss( y_true, y_pred ):\n",
    "    margin = 1\n",
    "    square_pred = K.square( y_pred )\n",
    "    margin_square = K.square( K.maximum(margin-y_pred,0) )\n",
    "    return K.mean( y_true*square_pred + (1-y_true)*margin_square )"
   ]
  },
  {
   "cell_type": "code",
   "execution_count": 52,
   "metadata": {},
   "outputs": [],
   "source": [
    "def create_pairs( x, digit_indices ):\n",
    "    '''Positive and negative pair creation\n",
    "    Alternates between positive and negative pairs\n",
    "    '''\n",
    "    pairs  = []\n",
    "    labels = []\n",
    "    n = min( [len(digit_indices[d]) for d in range(nClasses)] ) - 1\n",
    "    for d in range(nClasses):\n",
    "        for i in range(n):\n",
    "            z1, z2 = digit_indices[d][i], digit_indices[d][i+1]\n",
    "            pairs += [ [x[z1],x[z2]] ]\n",
    "            inc = random.randrange( 1, nClasses )\n",
    "            dn  = (d+inc) % nClasses\n",
    "            z1, z2 = digit_indices[d][i], digit_indices[dn][i]\n",
    "            pairs += [ [x[z1],x[z2]] ]\n",
    "            labels += [ 1, 0 ]\n",
    "    return np.array( pairs ), np.array( labels )"
   ]
  },
  {
   "cell_type": "code",
   "execution_count": 76,
   "metadata": {},
   "outputs": [],
   "source": [
    "def create_base_network( input_shape ):\n",
    "    '''Base network to be shared\n",
    "    '''\n",
    "    input = Input( shape = input_shape )\n",
    "    x = Flatten()(input)\n",
    "    x = Dense( 128, activation = 'relu' )(x)\n",
    "    x = Dropout(0.1)(x)\n",
    "    x = Dense( 128, activation = 'relu' )(x)\n",
    "    x = Dropout(0.1)(x)\n",
    "    x = Dense( 128, activation = 'relu' )(x)\n",
    "    x = Dense( 10, activation = 'sigmoid' )(x)\n",
    "    \n",
    "    return Model( input, x )"
   ]
  },
  {
   "cell_type": "code",
   "execution_count": 77,
   "metadata": {},
   "outputs": [],
   "source": [
    "def compute_accuracy( y_true, y_pred ):\n",
    "    '''Compute classification accuracy with a fixed threshold on distances\n",
    "    '''\n",
    "    pred = y_pred.ravel() < 0.5\n",
    "    return np.mean( pred == y_true )"
   ]
  },
  {
   "cell_type": "code",
   "execution_count": 78,
   "metadata": {},
   "outputs": [],
   "source": [
    "def accuracy( y_true, y_pred ):\n",
    "    '''Compute classification accuracy with a fixed threshold on distances\n",
    "    '''\n",
    "    return K.mean( K.equal(y_true,K.cast(y_pred<0.5,y_true.dtype)) )"
   ]
  },
  {
   "cell_type": "markdown",
   "metadata": {},
   "source": [
    "Data split between train and test samples"
   ]
  },
  {
   "cell_type": "code",
   "execution_count": 79,
   "metadata": {},
   "outputs": [],
   "source": [
    "(x_train,y_train), (x_test,y_test) = mnist.load_data()\n",
    "x_train = x_train.astype( 'float32' )\n",
    "x_test  = x_test.astype( 'float32' )\n",
    "x_train /= 255\n",
    "x_test  /= 255\n",
    "x_train = x_train.reshape( -1, 28, 28, 1 )\n",
    "x_test  = x_test.reshape( -1, 28, 28, 1 )\n",
    "input_shape = x_train.shape[1:]"
   ]
  },
  {
   "cell_type": "markdown",
   "metadata": {},
   "source": [
    "Create training+test positive and negative examples"
   ]
  },
  {
   "cell_type": "code",
   "execution_count": 80,
   "metadata": {},
   "outputs": [],
   "source": [
    "digit_indices_train = [ np.where(y_train==i)[0] for i in range(nClasses) ]\n",
    "tr_pairs, tr_y = create_pairs( x_train, digit_indices_train )\n",
    "digit_indices_test = [ np.where(y_test==i)[0] for i in range(nClasses) ]\n",
    "te_pairs, te_y = create_pairs( x_test, digit_indices_test )"
   ]
  },
  {
   "cell_type": "markdown",
   "metadata": {},
   "source": [
    "Network definition"
   ]
  },
  {
   "cell_type": "code",
   "execution_count": 81,
   "metadata": {},
   "outputs": [],
   "source": [
    "base_network = create_base_network( input_shape )\n",
    "\n",
    "input_a = Input( shape = input_shape )\n",
    "input_b = Input( shape = input_shape )"
   ]
  },
  {
   "cell_type": "markdown",
   "metadata": {},
   "source": [
    "Because we reuse the same instance of base network, the weight of the network will be shared across two branches"
   ]
  },
  {
   "cell_type": "code",
   "execution_count": 82,
   "metadata": {},
   "outputs": [],
   "source": [
    "processed_a = base_network( input_a )\n",
    "processed_b = base_network( input_b )\n",
    "\n",
    "distance = Lambda( euclidean_distance, output_shape=eucl_dist_out_shape )( [processed_a,processed_b] )\n",
    "model    = Model( [input_a,input_b], distance )"
   ]
  },
  {
   "cell_type": "markdown",
   "metadata": {},
   "source": [
    "Training"
   ]
  },
  {
   "cell_type": "code",
   "execution_count": 83,
   "metadata": {},
   "outputs": [
    {
     "name": "stdout",
     "output_type": "stream",
     "text": [
      "Train on 108400 samples, validate on 17820 samples\n",
      "Epoch 1/20\n",
      "108400/108400 [==============================] - 7s 63us/step - loss: 0.0713 - accuracy: 0.9162 - val_loss: 0.0355 - val_accuracy: 0.9631\n",
      "Epoch 2/20\n",
      "108400/108400 [==============================] - 6s 57us/step - loss: 0.0316 - accuracy: 0.9668 - val_loss: 0.0259 - val_accuracy: 0.9695\n",
      "Epoch 3/20\n",
      "108400/108400 [==============================] - 6s 55us/step - loss: 0.0221 - accuracy: 0.9757 - val_loss: 0.0214 - val_accuracy: 0.9743\n",
      "Epoch 4/20\n",
      "108400/108400 [==============================] - 6s 56us/step - loss: 0.0172 - accuracy: 0.9806 - val_loss: 0.0216 - val_accuracy: 0.9736\n",
      "Epoch 5/20\n",
      "108400/108400 [==============================] - 6s 54us/step - loss: 0.0144 - accuracy: 0.9837 - val_loss: 0.0196 - val_accuracy: 0.9760\n",
      "Epoch 6/20\n",
      "108400/108400 [==============================] - 6s 56us/step - loss: 0.0126 - accuracy: 0.9856 - val_loss: 0.0194 - val_accuracy: 0.9763\n",
      "Epoch 7/20\n",
      "108400/108400 [==============================] - 6s 55us/step - loss: 0.0110 - accuracy: 0.9873 - val_loss: 0.0196 - val_accuracy: 0.9771\n",
      "Epoch 8/20\n",
      "108400/108400 [==============================] - 6s 55us/step - loss: 0.0099 - accuracy: 0.9887 - val_loss: 0.0202 - val_accuracy: 0.9756\n",
      "Epoch 9/20\n",
      "108400/108400 [==============================] - 6s 55us/step - loss: 0.0090 - accuracy: 0.9898 - val_loss: 0.0194 - val_accuracy: 0.9764\n",
      "Epoch 10/20\n",
      "108400/108400 [==============================] - 6s 58us/step - loss: 0.0083 - accuracy: 0.9906 - val_loss: 0.0203 - val_accuracy: 0.9764\n",
      "Epoch 11/20\n",
      "108400/108400 [==============================] - 6s 57us/step - loss: 0.0077 - accuracy: 0.9915 - val_loss: 0.0182 - val_accuracy: 0.9788\n",
      "Epoch 12/20\n",
      "108400/108400 [==============================] - 6s 56us/step - loss: 0.0072 - accuracy: 0.9918 - val_loss: 0.0192 - val_accuracy: 0.9774\n",
      "Epoch 13/20\n",
      "108400/108400 [==============================] - 6s 57us/step - loss: 0.0071 - accuracy: 0.9920 - val_loss: 0.0190 - val_accuracy: 0.9788\n",
      "Epoch 14/20\n",
      "108400/108400 [==============================] - 6s 56us/step - loss: 0.0064 - accuracy: 0.9927 - val_loss: 0.0199 - val_accuracy: 0.9772\n",
      "Epoch 15/20\n",
      "108400/108400 [==============================] - 6s 53us/step - loss: 0.0062 - accuracy: 0.9928 - val_loss: 0.0190 - val_accuracy: 0.9787\n",
      "Epoch 16/20\n",
      "108400/108400 [==============================] - 6s 53us/step - loss: 0.0059 - accuracy: 0.9935 - val_loss: 0.0188 - val_accuracy: 0.9778\n",
      "Epoch 17/20\n",
      "108400/108400 [==============================] - 6s 54us/step - loss: 0.0057 - accuracy: 0.9935 - val_loss: 0.0189 - val_accuracy: 0.9782\n",
      "Epoch 18/20\n",
      "108400/108400 [==============================] - 6s 58us/step - loss: 0.0052 - accuracy: 0.9942 - val_loss: 0.0182 - val_accuracy: 0.9788\n",
      "Epoch 19/20\n",
      "108400/108400 [==============================] - 6s 56us/step - loss: 0.0055 - accuracy: 0.9939 - val_loss: 0.0190 - val_accuracy: 0.9781\n",
      "Epoch 20/20\n",
      "108400/108400 [==============================] - 6s 58us/step - loss: 0.0055 - accuracy: 0.9937 - val_loss: 0.0182 - val_accuracy: 0.9791\n"
     ]
    },
    {
     "data": {
      "text/plain": [
       "<tensorflow.python.keras.callbacks.History at 0x7fcc2b307cf8>"
      ]
     },
     "execution_count": 83,
     "metadata": {},
     "output_type": "execute_result"
    }
   ],
   "source": [
    "rms = RMSprop()\n",
    "model.compile( loss = contrastive_loss, optimizer = rms, metrics = [ accuracy ] )\n",
    "model.fit( [tr_pairs[:,0],tr_pairs[:,1]], tr_y,\n",
    "           batch_size = 128, epochs = nEpochs, validation_data = ([te_pairs[:,0],te_pairs[:,1]],te_y) )"
   ]
  },
  {
   "cell_type": "markdown",
   "metadata": {},
   "source": [
    "Test Accuracy on train and test sets"
   ]
  },
  {
   "cell_type": "code",
   "execution_count": 84,
   "metadata": {},
   "outputs": [
    {
     "name": "stdout",
     "output_type": "stream",
     "text": [
      "Accuracy on training set = 99.82%\n",
      "Accuracy on test set     = 97.91%\n"
     ]
    }
   ],
   "source": [
    "y_pred_tr = model.predict( [tr_pairs[:,0],tr_pairs[:,1]] )\n",
    "tr_acc = compute_accuracy( tr_y, y_pred_tr )\n",
    "y_pred_te = model.predict( [te_pairs[:,0],te_pairs[:,1]] )\n",
    "te_acc = compute_accuracy( te_y, y_pred_te )\n",
    "\n",
    "print( \"Accuracy on training set = %0.2f%%\" %(100*tr_acc) )\n",
    "print( \"Accuracy on test set     = %0.2f%%\" %(100*te_acc) )"
   ]
  },
  {
   "cell_type": "code",
   "execution_count": 85,
   "metadata": {},
   "outputs": [],
   "source": [
    "embeddingModel = Model( input_a, processed_a )"
   ]
  },
  {
   "cell_type": "code",
   "execution_count": 86,
   "metadata": {},
   "outputs": [
    {
     "name": "stdout",
     "output_type": "stream",
     "text": [
      "l =  0     r =  [0.         0.         0.9995201  0.         0.99577284 0.999553\n",
      " 0.         0.99950933 0.         0.9989072 ]\n",
      "l =  1     r =  [0.         0.59213316 0.78118354 0.43414107 0.99561214 0.9995576\n",
      " 0.38781098 0.9992588  0.46998414 0.48810837]\n",
      "l =  2     r =  [0.        0.9981816 0.9988401 0.        0.9956107 0.9997263 0.\n",
      " 0.9995349 0.        0.       ]\n",
      "l =  3     r =  [0.         0.9962082  0.14696868 0.         0.99562085 0.99947196\n",
      " 0.         0.99872065 0.         0.48909113]\n",
      "l =  4     r =  [0.         0.4674495  0.99985677 0.         0.99561256 0.35803995\n",
      " 0.5850248  0.9999345  0.         0.        ]\n",
      "l =  5     r =  [0.         0.         0.13891643 0.         0.99561185 0.9997191\n",
      " 0.         0.99996895 0.         0.49527392]\n",
      "l =  6     r =  [0.         0.         0.9992276  0.         0.99560887 0.9999397\n",
      " 0.         0.9998335  0.         0.        ]\n",
      "l =  7     r =  [0.         0.9989631  0.99959594 0.         0.9956139  0.9991925\n",
      " 0.         0.99997914 0.         0.9981386 ]\n",
      "l =  8     r =  [0.         0.4708712  0.70969266 0.         0.9956335  0.99944293\n",
      " 0.         0.35630485 0.         0.49252996]\n",
      "l =  9     r =  [0.         0.47561654 0.9978351  0.         0.99563944 0.21015134\n",
      " 0.         0.99959856 0.         0.7760899 ]\n"
     ]
    }
   ],
   "source": [
    "for l in range( len(digit_indices_train) ):\n",
    "    y = embeddingModel.predict( x_train[digit_indices_train[l]] )\n",
    "    y_bar = np.mean( y, axis = 0 )\n",
    "    y_bar[y_bar<0.01] = 0.0\n",
    "    print( \"l = \", l, \"    r = \", y_bar )"
   ]
  },
  {
   "cell_type": "code",
   "execution_count": null,
   "metadata": {},
   "outputs": [],
   "source": []
  }
 ],
 "metadata": {
  "kernelspec": {
   "display_name": "Python 3",
   "language": "python",
   "name": "python3"
  },
  "language_info": {
   "codemirror_mode": {
    "name": "ipython",
    "version": 3
   },
   "file_extension": ".py",
   "mimetype": "text/x-python",
   "name": "python",
   "nbconvert_exporter": "python",
   "pygments_lexer": "ipython3",
   "version": "3.6.6"
  }
 },
 "nbformat": 4,
 "nbformat_minor": 2
}
